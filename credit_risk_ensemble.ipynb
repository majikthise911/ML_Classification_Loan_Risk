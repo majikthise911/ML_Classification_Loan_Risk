{
 "cells": [
  {
   "cell_type": "markdown",
   "metadata": {},
   "source": [
    "# Ensemble Learning\n",
    "\n",
    "## Initial Imports"
   ]
  },
  {
   "cell_type": "code",
   "execution_count": 1,
   "metadata": {},
   "outputs": [],
   "source": [
    "import warnings\n",
    "warnings.filterwarnings('ignore')"
   ]
  },
  {
   "cell_type": "code",
   "execution_count": 2,
   "metadata": {},
   "outputs": [],
   "source": [
    "import numpy as np\n",
    "import pandas as pd\n",
    "from pathlib import Path\n",
    "from collections import Counter"
   ]
  },
  {
   "cell_type": "code",
   "execution_count": 3,
   "metadata": {},
   "outputs": [],
   "source": [
    "from sklearn.metrics import balanced_accuracy_score\n",
    "from sklearn.metrics import confusion_matrix\n",
    "from imblearn.metrics import classification_report_imbalanced"
   ]
  },
  {
   "cell_type": "markdown",
   "metadata": {},
   "source": [
    "## Read the CSV and Perform Basic Data Cleaning"
   ]
  },
  {
   "cell_type": "code",
   "execution_count": 4,
   "metadata": {},
   "outputs": [
    {
     "data": {
      "text/html": [
       "<div>\n",
       "<style scoped>\n",
       "    .dataframe tbody tr th:only-of-type {\n",
       "        vertical-align: middle;\n",
       "    }\n",
       "\n",
       "    .dataframe tbody tr th {\n",
       "        vertical-align: top;\n",
       "    }\n",
       "\n",
       "    .dataframe thead th {\n",
       "        text-align: right;\n",
       "    }\n",
       "</style>\n",
       "<table border=\"1\" class=\"dataframe\">\n",
       "  <thead>\n",
       "    <tr style=\"text-align: right;\">\n",
       "      <th></th>\n",
       "      <th>loan_amnt</th>\n",
       "      <th>int_rate</th>\n",
       "      <th>installment</th>\n",
       "      <th>home_ownership</th>\n",
       "      <th>annual_inc</th>\n",
       "      <th>verification_status</th>\n",
       "      <th>issue_d</th>\n",
       "      <th>loan_status</th>\n",
       "      <th>pymnt_plan</th>\n",
       "      <th>dti</th>\n",
       "      <th>...</th>\n",
       "      <th>pct_tl_nvr_dlq</th>\n",
       "      <th>percent_bc_gt_75</th>\n",
       "      <th>pub_rec_bankruptcies</th>\n",
       "      <th>tax_liens</th>\n",
       "      <th>tot_hi_cred_lim</th>\n",
       "      <th>total_bal_ex_mort</th>\n",
       "      <th>total_bc_limit</th>\n",
       "      <th>total_il_high_credit_limit</th>\n",
       "      <th>hardship_flag</th>\n",
       "      <th>debt_settlement_flag</th>\n",
       "    </tr>\n",
       "  </thead>\n",
       "  <tbody>\n",
       "    <tr>\n",
       "      <th>0</th>\n",
       "      <td>10500.0</td>\n",
       "      <td>0.1719</td>\n",
       "      <td>375.35</td>\n",
       "      <td>RENT</td>\n",
       "      <td>66000.0</td>\n",
       "      <td>Source Verified</td>\n",
       "      <td>Mar-2019</td>\n",
       "      <td>low_risk</td>\n",
       "      <td>n</td>\n",
       "      <td>27.24</td>\n",
       "      <td>...</td>\n",
       "      <td>85.7</td>\n",
       "      <td>100.0</td>\n",
       "      <td>0.0</td>\n",
       "      <td>0.0</td>\n",
       "      <td>65687.0</td>\n",
       "      <td>38199.0</td>\n",
       "      <td>2000.0</td>\n",
       "      <td>61987.0</td>\n",
       "      <td>N</td>\n",
       "      <td>N</td>\n",
       "    </tr>\n",
       "    <tr>\n",
       "      <th>1</th>\n",
       "      <td>25000.0</td>\n",
       "      <td>0.2000</td>\n",
       "      <td>929.09</td>\n",
       "      <td>MORTGAGE</td>\n",
       "      <td>105000.0</td>\n",
       "      <td>Verified</td>\n",
       "      <td>Mar-2019</td>\n",
       "      <td>low_risk</td>\n",
       "      <td>n</td>\n",
       "      <td>20.23</td>\n",
       "      <td>...</td>\n",
       "      <td>91.2</td>\n",
       "      <td>50.0</td>\n",
       "      <td>1.0</td>\n",
       "      <td>0.0</td>\n",
       "      <td>271427.0</td>\n",
       "      <td>60641.0</td>\n",
       "      <td>41200.0</td>\n",
       "      <td>49197.0</td>\n",
       "      <td>N</td>\n",
       "      <td>N</td>\n",
       "    </tr>\n",
       "    <tr>\n",
       "      <th>2</th>\n",
       "      <td>20000.0</td>\n",
       "      <td>0.2000</td>\n",
       "      <td>529.88</td>\n",
       "      <td>MORTGAGE</td>\n",
       "      <td>56000.0</td>\n",
       "      <td>Verified</td>\n",
       "      <td>Mar-2019</td>\n",
       "      <td>low_risk</td>\n",
       "      <td>n</td>\n",
       "      <td>24.26</td>\n",
       "      <td>...</td>\n",
       "      <td>66.7</td>\n",
       "      <td>50.0</td>\n",
       "      <td>0.0</td>\n",
       "      <td>0.0</td>\n",
       "      <td>60644.0</td>\n",
       "      <td>45684.0</td>\n",
       "      <td>7500.0</td>\n",
       "      <td>43144.0</td>\n",
       "      <td>N</td>\n",
       "      <td>N</td>\n",
       "    </tr>\n",
       "    <tr>\n",
       "      <th>3</th>\n",
       "      <td>10000.0</td>\n",
       "      <td>0.1640</td>\n",
       "      <td>353.55</td>\n",
       "      <td>RENT</td>\n",
       "      <td>92000.0</td>\n",
       "      <td>Verified</td>\n",
       "      <td>Mar-2019</td>\n",
       "      <td>low_risk</td>\n",
       "      <td>n</td>\n",
       "      <td>31.44</td>\n",
       "      <td>...</td>\n",
       "      <td>100.0</td>\n",
       "      <td>50.0</td>\n",
       "      <td>1.0</td>\n",
       "      <td>0.0</td>\n",
       "      <td>99506.0</td>\n",
       "      <td>68784.0</td>\n",
       "      <td>19700.0</td>\n",
       "      <td>76506.0</td>\n",
       "      <td>N</td>\n",
       "      <td>N</td>\n",
       "    </tr>\n",
       "    <tr>\n",
       "      <th>4</th>\n",
       "      <td>22000.0</td>\n",
       "      <td>0.1474</td>\n",
       "      <td>520.39</td>\n",
       "      <td>MORTGAGE</td>\n",
       "      <td>52000.0</td>\n",
       "      <td>Not Verified</td>\n",
       "      <td>Mar-2019</td>\n",
       "      <td>low_risk</td>\n",
       "      <td>n</td>\n",
       "      <td>18.76</td>\n",
       "      <td>...</td>\n",
       "      <td>100.0</td>\n",
       "      <td>0.0</td>\n",
       "      <td>0.0</td>\n",
       "      <td>0.0</td>\n",
       "      <td>219750.0</td>\n",
       "      <td>25919.0</td>\n",
       "      <td>27600.0</td>\n",
       "      <td>20000.0</td>\n",
       "      <td>N</td>\n",
       "      <td>N</td>\n",
       "    </tr>\n",
       "  </tbody>\n",
       "</table>\n",
       "<p>5 rows × 86 columns</p>\n",
       "</div>"
      ],
      "text/plain": [
       "   loan_amnt  int_rate  installment home_ownership  annual_inc  \\\n",
       "0    10500.0    0.1719       375.35           RENT     66000.0   \n",
       "1    25000.0    0.2000       929.09       MORTGAGE    105000.0   \n",
       "2    20000.0    0.2000       529.88       MORTGAGE     56000.0   \n",
       "3    10000.0    0.1640       353.55           RENT     92000.0   \n",
       "4    22000.0    0.1474       520.39       MORTGAGE     52000.0   \n",
       "\n",
       "  verification_status   issue_d loan_status pymnt_plan    dti  ...  \\\n",
       "0     Source Verified  Mar-2019    low_risk          n  27.24  ...   \n",
       "1            Verified  Mar-2019    low_risk          n  20.23  ...   \n",
       "2            Verified  Mar-2019    low_risk          n  24.26  ...   \n",
       "3            Verified  Mar-2019    low_risk          n  31.44  ...   \n",
       "4        Not Verified  Mar-2019    low_risk          n  18.76  ...   \n",
       "\n",
       "   pct_tl_nvr_dlq  percent_bc_gt_75  pub_rec_bankruptcies  tax_liens  \\\n",
       "0            85.7             100.0                   0.0        0.0   \n",
       "1            91.2              50.0                   1.0        0.0   \n",
       "2            66.7              50.0                   0.0        0.0   \n",
       "3           100.0              50.0                   1.0        0.0   \n",
       "4           100.0               0.0                   0.0        0.0   \n",
       "\n",
       "   tot_hi_cred_lim  total_bal_ex_mort total_bc_limit  \\\n",
       "0          65687.0            38199.0         2000.0   \n",
       "1         271427.0            60641.0        41200.0   \n",
       "2          60644.0            45684.0         7500.0   \n",
       "3          99506.0            68784.0        19700.0   \n",
       "4         219750.0            25919.0        27600.0   \n",
       "\n",
       "   total_il_high_credit_limit  hardship_flag  debt_settlement_flag  \n",
       "0                     61987.0              N                     N  \n",
       "1                     49197.0              N                     N  \n",
       "2                     43144.0              N                     N  \n",
       "3                     76506.0              N                     N  \n",
       "4                     20000.0              N                     N  \n",
       "\n",
       "[5 rows x 86 columns]"
      ]
     },
     "execution_count": 4,
     "metadata": {},
     "output_type": "execute_result"
    }
   ],
   "source": [
    "# Load the data\n",
    "file_path = Path('Resources/LoanStats_2019Q1.csv')\n",
    "df = pd.read_csv(file_path)\n",
    "\n",
    "# Preview the data\n",
    "df.head()"
   ]
  },
  {
   "cell_type": "markdown",
   "metadata": {},
   "source": [
    "## Split the Data into Training and Testing"
   ]
  },
  {
   "cell_type": "code",
   "execution_count": 5,
   "metadata": {},
   "outputs": [],
   "source": [
    "# Create our features\n",
    "X = pd.get_dummies(df, columns=[ # .get_dummies() converts categorical variables to binary\n",
    "    \"home_ownership\",\n",
    "    \"verification_status\",\n",
    "    \"issue_d\",\n",
    "    \"pymnt_plan\",\n",
    "    \"initial_list_status\",\n",
    "    \"application_type\",\n",
    "    ]).drop(columns=[\"loan_status\", \"next_pymnt_d\", \"hardship_flag\", \"debt_settlement_flag\"]) # Drop the columns we don't need for the features (we'll use the loan_status later as the target)\n",
    "\n",
    "# Create our target\n",
    "y = df.loan_status.to_frame() # Convert the loan_status column to a dataframe. We will use this later to calculate the accuracy of our model. \n",
    "# We will also use this to calculate the balanced accuracy of our model.\n",
    "# loan_status is the column we want to predict. "
   ]
  },
  {
   "cell_type": "code",
   "execution_count": 6,
   "metadata": {},
   "outputs": [
    {
     "data": {
      "text/html": [
       "<div>\n",
       "<style scoped>\n",
       "    .dataframe tbody tr th:only-of-type {\n",
       "        vertical-align: middle;\n",
       "    }\n",
       "\n",
       "    .dataframe tbody tr th {\n",
       "        vertical-align: top;\n",
       "    }\n",
       "\n",
       "    .dataframe thead th {\n",
       "        text-align: right;\n",
       "    }\n",
       "</style>\n",
       "<table border=\"1\" class=\"dataframe\">\n",
       "  <thead>\n",
       "    <tr style=\"text-align: right;\">\n",
       "      <th></th>\n",
       "      <th>loan_amnt</th>\n",
       "      <th>int_rate</th>\n",
       "      <th>installment</th>\n",
       "      <th>annual_inc</th>\n",
       "      <th>dti</th>\n",
       "      <th>delinq_2yrs</th>\n",
       "      <th>inq_last_6mths</th>\n",
       "      <th>open_acc</th>\n",
       "      <th>pub_rec</th>\n",
       "      <th>revol_bal</th>\n",
       "      <th>...</th>\n",
       "      <th>verification_status_Source Verified</th>\n",
       "      <th>verification_status_Verified</th>\n",
       "      <th>issue_d_Feb-2019</th>\n",
       "      <th>issue_d_Jan-2019</th>\n",
       "      <th>issue_d_Mar-2019</th>\n",
       "      <th>pymnt_plan_n</th>\n",
       "      <th>initial_list_status_f</th>\n",
       "      <th>initial_list_status_w</th>\n",
       "      <th>application_type_Individual</th>\n",
       "      <th>application_type_Joint App</th>\n",
       "    </tr>\n",
       "  </thead>\n",
       "  <tbody>\n",
       "    <tr>\n",
       "      <th>count</th>\n",
       "      <td>68817.000000</td>\n",
       "      <td>68817.000000</td>\n",
       "      <td>68817.000000</td>\n",
       "      <td>6.881700e+04</td>\n",
       "      <td>68817.000000</td>\n",
       "      <td>68817.000000</td>\n",
       "      <td>68817.000000</td>\n",
       "      <td>68817.000000</td>\n",
       "      <td>68817.000000</td>\n",
       "      <td>68817.000000</td>\n",
       "      <td>...</td>\n",
       "      <td>68817.000000</td>\n",
       "      <td>68817.000000</td>\n",
       "      <td>68817.000000</td>\n",
       "      <td>68817.000000</td>\n",
       "      <td>68817.000000</td>\n",
       "      <td>68817.0</td>\n",
       "      <td>68817.000000</td>\n",
       "      <td>68817.000000</td>\n",
       "      <td>68817.000000</td>\n",
       "      <td>68817.000000</td>\n",
       "    </tr>\n",
       "    <tr>\n",
       "      <th>mean</th>\n",
       "      <td>16677.594562</td>\n",
       "      <td>0.127718</td>\n",
       "      <td>480.652863</td>\n",
       "      <td>8.821371e+04</td>\n",
       "      <td>21.778153</td>\n",
       "      <td>0.217766</td>\n",
       "      <td>0.497697</td>\n",
       "      <td>12.587340</td>\n",
       "      <td>0.126030</td>\n",
       "      <td>17604.142828</td>\n",
       "      <td>...</td>\n",
       "      <td>0.373992</td>\n",
       "      <td>0.148001</td>\n",
       "      <td>0.371696</td>\n",
       "      <td>0.451066</td>\n",
       "      <td>0.177238</td>\n",
       "      <td>1.0</td>\n",
       "      <td>0.123879</td>\n",
       "      <td>0.876121</td>\n",
       "      <td>0.860340</td>\n",
       "      <td>0.139660</td>\n",
       "    </tr>\n",
       "    <tr>\n",
       "      <th>std</th>\n",
       "      <td>10277.348590</td>\n",
       "      <td>0.048130</td>\n",
       "      <td>288.062432</td>\n",
       "      <td>1.155800e+05</td>\n",
       "      <td>20.199244</td>\n",
       "      <td>0.718367</td>\n",
       "      <td>0.758122</td>\n",
       "      <td>6.022869</td>\n",
       "      <td>0.336797</td>\n",
       "      <td>21835.880400</td>\n",
       "      <td>...</td>\n",
       "      <td>0.483865</td>\n",
       "      <td>0.355104</td>\n",
       "      <td>0.483261</td>\n",
       "      <td>0.497603</td>\n",
       "      <td>0.381873</td>\n",
       "      <td>0.0</td>\n",
       "      <td>0.329446</td>\n",
       "      <td>0.329446</td>\n",
       "      <td>0.346637</td>\n",
       "      <td>0.346637</td>\n",
       "    </tr>\n",
       "    <tr>\n",
       "      <th>min</th>\n",
       "      <td>1000.000000</td>\n",
       "      <td>0.060000</td>\n",
       "      <td>30.890000</td>\n",
       "      <td>4.000000e+01</td>\n",
       "      <td>0.000000</td>\n",
       "      <td>0.000000</td>\n",
       "      <td>0.000000</td>\n",
       "      <td>2.000000</td>\n",
       "      <td>0.000000</td>\n",
       "      <td>0.000000</td>\n",
       "      <td>...</td>\n",
       "      <td>0.000000</td>\n",
       "      <td>0.000000</td>\n",
       "      <td>0.000000</td>\n",
       "      <td>0.000000</td>\n",
       "      <td>0.000000</td>\n",
       "      <td>1.0</td>\n",
       "      <td>0.000000</td>\n",
       "      <td>0.000000</td>\n",
       "      <td>0.000000</td>\n",
       "      <td>0.000000</td>\n",
       "    </tr>\n",
       "    <tr>\n",
       "      <th>25%</th>\n",
       "      <td>9000.000000</td>\n",
       "      <td>0.088100</td>\n",
       "      <td>265.730000</td>\n",
       "      <td>5.000000e+04</td>\n",
       "      <td>13.890000</td>\n",
       "      <td>0.000000</td>\n",
       "      <td>0.000000</td>\n",
       "      <td>8.000000</td>\n",
       "      <td>0.000000</td>\n",
       "      <td>6293.000000</td>\n",
       "      <td>...</td>\n",
       "      <td>0.000000</td>\n",
       "      <td>0.000000</td>\n",
       "      <td>0.000000</td>\n",
       "      <td>0.000000</td>\n",
       "      <td>0.000000</td>\n",
       "      <td>1.0</td>\n",
       "      <td>0.000000</td>\n",
       "      <td>1.000000</td>\n",
       "      <td>1.000000</td>\n",
       "      <td>0.000000</td>\n",
       "    </tr>\n",
       "    <tr>\n",
       "      <th>50%</th>\n",
       "      <td>15000.000000</td>\n",
       "      <td>0.118000</td>\n",
       "      <td>404.560000</td>\n",
       "      <td>7.300000e+04</td>\n",
       "      <td>19.760000</td>\n",
       "      <td>0.000000</td>\n",
       "      <td>0.000000</td>\n",
       "      <td>11.000000</td>\n",
       "      <td>0.000000</td>\n",
       "      <td>12068.000000</td>\n",
       "      <td>...</td>\n",
       "      <td>0.000000</td>\n",
       "      <td>0.000000</td>\n",
       "      <td>0.000000</td>\n",
       "      <td>0.000000</td>\n",
       "      <td>0.000000</td>\n",
       "      <td>1.0</td>\n",
       "      <td>0.000000</td>\n",
       "      <td>1.000000</td>\n",
       "      <td>1.000000</td>\n",
       "      <td>0.000000</td>\n",
       "    </tr>\n",
       "    <tr>\n",
       "      <th>75%</th>\n",
       "      <td>24000.000000</td>\n",
       "      <td>0.155700</td>\n",
       "      <td>648.100000</td>\n",
       "      <td>1.040000e+05</td>\n",
       "      <td>26.660000</td>\n",
       "      <td>0.000000</td>\n",
       "      <td>1.000000</td>\n",
       "      <td>16.000000</td>\n",
       "      <td>0.000000</td>\n",
       "      <td>21735.000000</td>\n",
       "      <td>...</td>\n",
       "      <td>1.000000</td>\n",
       "      <td>0.000000</td>\n",
       "      <td>1.000000</td>\n",
       "      <td>1.000000</td>\n",
       "      <td>0.000000</td>\n",
       "      <td>1.0</td>\n",
       "      <td>0.000000</td>\n",
       "      <td>1.000000</td>\n",
       "      <td>1.000000</td>\n",
       "      <td>0.000000</td>\n",
       "    </tr>\n",
       "    <tr>\n",
       "      <th>max</th>\n",
       "      <td>40000.000000</td>\n",
       "      <td>0.308400</td>\n",
       "      <td>1676.230000</td>\n",
       "      <td>8.797500e+06</td>\n",
       "      <td>999.000000</td>\n",
       "      <td>18.000000</td>\n",
       "      <td>5.000000</td>\n",
       "      <td>72.000000</td>\n",
       "      <td>4.000000</td>\n",
       "      <td>587191.000000</td>\n",
       "      <td>...</td>\n",
       "      <td>1.000000</td>\n",
       "      <td>1.000000</td>\n",
       "      <td>1.000000</td>\n",
       "      <td>1.000000</td>\n",
       "      <td>1.000000</td>\n",
       "      <td>1.0</td>\n",
       "      <td>1.000000</td>\n",
       "      <td>1.000000</td>\n",
       "      <td>1.000000</td>\n",
       "      <td>1.000000</td>\n",
       "    </tr>\n",
       "  </tbody>\n",
       "</table>\n",
       "<p>8 rows × 91 columns</p>\n",
       "</div>"
      ],
      "text/plain": [
       "          loan_amnt      int_rate   installment    annual_inc           dti  \\\n",
       "count  68817.000000  68817.000000  68817.000000  6.881700e+04  68817.000000   \n",
       "mean   16677.594562      0.127718    480.652863  8.821371e+04     21.778153   \n",
       "std    10277.348590      0.048130    288.062432  1.155800e+05     20.199244   \n",
       "min     1000.000000      0.060000     30.890000  4.000000e+01      0.000000   \n",
       "25%     9000.000000      0.088100    265.730000  5.000000e+04     13.890000   \n",
       "50%    15000.000000      0.118000    404.560000  7.300000e+04     19.760000   \n",
       "75%    24000.000000      0.155700    648.100000  1.040000e+05     26.660000   \n",
       "max    40000.000000      0.308400   1676.230000  8.797500e+06    999.000000   \n",
       "\n",
       "        delinq_2yrs  inq_last_6mths      open_acc       pub_rec  \\\n",
       "count  68817.000000    68817.000000  68817.000000  68817.000000   \n",
       "mean       0.217766        0.497697     12.587340      0.126030   \n",
       "std        0.718367        0.758122      6.022869      0.336797   \n",
       "min        0.000000        0.000000      2.000000      0.000000   \n",
       "25%        0.000000        0.000000      8.000000      0.000000   \n",
       "50%        0.000000        0.000000     11.000000      0.000000   \n",
       "75%        0.000000        1.000000     16.000000      0.000000   \n",
       "max       18.000000        5.000000     72.000000      4.000000   \n",
       "\n",
       "           revol_bal  ...  verification_status_Source Verified  \\\n",
       "count   68817.000000  ...                         68817.000000   \n",
       "mean    17604.142828  ...                             0.373992   \n",
       "std     21835.880400  ...                             0.483865   \n",
       "min         0.000000  ...                             0.000000   \n",
       "25%      6293.000000  ...                             0.000000   \n",
       "50%     12068.000000  ...                             0.000000   \n",
       "75%     21735.000000  ...                             1.000000   \n",
       "max    587191.000000  ...                             1.000000   \n",
       "\n",
       "       verification_status_Verified  issue_d_Feb-2019  issue_d_Jan-2019  \\\n",
       "count                  68817.000000      68817.000000      68817.000000   \n",
       "mean                       0.148001          0.371696          0.451066   \n",
       "std                        0.355104          0.483261          0.497603   \n",
       "min                        0.000000          0.000000          0.000000   \n",
       "25%                        0.000000          0.000000          0.000000   \n",
       "50%                        0.000000          0.000000          0.000000   \n",
       "75%                        0.000000          1.000000          1.000000   \n",
       "max                        1.000000          1.000000          1.000000   \n",
       "\n",
       "       issue_d_Mar-2019  pymnt_plan_n  initial_list_status_f  \\\n",
       "count      68817.000000       68817.0           68817.000000   \n",
       "mean           0.177238           1.0               0.123879   \n",
       "std            0.381873           0.0               0.329446   \n",
       "min            0.000000           1.0               0.000000   \n",
       "25%            0.000000           1.0               0.000000   \n",
       "50%            0.000000           1.0               0.000000   \n",
       "75%            0.000000           1.0               0.000000   \n",
       "max            1.000000           1.0               1.000000   \n",
       "\n",
       "       initial_list_status_w  application_type_Individual  \\\n",
       "count           68817.000000                 68817.000000   \n",
       "mean                0.876121                     0.860340   \n",
       "std                 0.329446                     0.346637   \n",
       "min                 0.000000                     0.000000   \n",
       "25%                 1.000000                     1.000000   \n",
       "50%                 1.000000                     1.000000   \n",
       "75%                 1.000000                     1.000000   \n",
       "max                 1.000000                     1.000000   \n",
       "\n",
       "       application_type_Joint App  \n",
       "count                68817.000000  \n",
       "mean                     0.139660  \n",
       "std                      0.346637  \n",
       "min                      0.000000  \n",
       "25%                      0.000000  \n",
       "50%                      0.000000  \n",
       "75%                      0.000000  \n",
       "max                      1.000000  \n",
       "\n",
       "[8 rows x 91 columns]"
      ]
     },
     "execution_count": 6,
     "metadata": {},
     "output_type": "execute_result"
    }
   ],
   "source": [
    "X.describe()"
   ]
  },
  {
   "cell_type": "code",
   "execution_count": 7,
   "metadata": {},
   "outputs": [
    {
     "data": {
      "text/plain": [
       "low_risk     68470\n",
       "high_risk      347\n",
       "Name: loan_status, dtype: int64"
      ]
     },
     "execution_count": 7,
     "metadata": {},
     "output_type": "execute_result"
    }
   ],
   "source": [
    "# Check the balance of our target values\n",
    "y['loan_status'].value_counts() "
   ]
  },
  {
   "cell_type": "code",
   "execution_count": 8,
   "metadata": {},
   "outputs": [],
   "source": [
    "# Split the X and y into X_train, X_test, y_train, y_test\n",
    "from sklearn.model_selection import train_test_split\n",
    "\n",
    "X_train, X_test, y_train, y_test = train_test_split(X, y, random_state=1)"
   ]
  },
  {
   "cell_type": "markdown",
   "metadata": {},
   "source": [
    "## Data Pre-Processing\n",
    "\n",
    "Scale the training and testing data using the `StandardScaler` from `sklearn`. Remember that when scaling the data, you only scale the features data (`X_train` and `X_testing`)."
   ]
  },
  {
   "cell_type": "code",
   "execution_count": 9,
   "metadata": {},
   "outputs": [],
   "source": [
    "# Create the StandardScaler instance\n",
    "from sklearn.preprocessing import StandardScaler\n",
    "data_scaler = StandardScaler()"
   ]
  },
  {
   "cell_type": "code",
   "execution_count": 10,
   "metadata": {},
   "outputs": [
    {
     "data": {
      "text/plain": [
       "StandardScaler()"
      ]
     },
     "execution_count": 10,
     "metadata": {},
     "output_type": "execute_result"
    }
   ],
   "source": [
    "# Fit the Standard Scaler with the training data\n",
    "# When fitting scaling functions, only train on the training dataset\n",
    "data_scaler.fit(X_train, X_test)"
   ]
  },
  {
   "cell_type": "code",
   "execution_count": 21,
   "metadata": {},
   "outputs": [
    {
     "data": {
      "text/plain": [
       "array([[-1.62386501e+00, -1.31449961e+00, -1.67079132e+00,\n",
       "        -7.17532749e-01, -1.11781992e+00,  3.17052689e+00,\n",
       "        -1.51860089e+00, -2.24576781e+00, -1.48978884e+00,\n",
       "        -8.04416013e-01, -1.99540490e+00, -1.60250604e+00,\n",
       "        -1.60185565e+00, -8.09243893e-01, -8.09065566e-01,\n",
       "        -6.01304982e-01, -1.11967294e+00, -6.30265328e-02,\n",
       "         0.00000000e+00,  0.00000000e+00, -6.58675115e-01,\n",
       "        -1.01148930e+00, -1.00000000e+00,  0.00000000e+00,\n",
       "        -1.02466542e-01, -9.45657499e-01, -1.60585527e+00,\n",
       "        -1.25394820e+00, -1.76689178e+00, -2.04277807e+00,\n",
       "        -9.13208598e-01, -8.73757969e-01, -3.22415489e+00,\n",
       "        -1.42179676e+00, -1.47641226e+00, -1.11095677e+00,\n",
       "        -3.08220428e+00, -1.13594160e+00, -1.47680232e+00,\n",
       "        -7.95648971e-01, -1.11707859e+00, -2.03175363e+00,\n",
       "        -8.98630001e-01, -8.29781750e-01, -1.65187608e+00,\n",
       "        -9.77783477e-01, -9.01589857e-03, -2.20521732e+00,\n",
       "        -1.76407151e+00, -6.81126789e-01, -4.16974895e-01,\n",
       "        -9.69945256e-01, -7.35611209e-01, -1.24006460e+00,\n",
       "        -5.79113018e-01, -1.67624529e+00, -1.68693948e+00,\n",
       "        -1.79394909e+00, -1.54364682e+00, -1.22914867e+00,\n",
       "        -1.85465067e+00, -1.67973155e+00, -1.68790337e+00,\n",
       "        -2.24314432e+00,  0.00000000e+00,  0.00000000e+00,\n",
       "         5.96554983e+00, -1.78882150e+00, -1.17860620e+01,\n",
       "        -8.47715921e-01, -1.48954076e+00,  0.00000000e+00,\n",
       "        -1.08535062e+00, -1.06929427e+00, -1.10867271e+00,\n",
       "        -1.09360935e+00, -1.10664080e+00, -3.16479497e+00,\n",
       "        -1.46511194e+00,  2.04967313e+00,  1.12921963e+00,\n",
       "        -2.36535699e+00, -1.59128111e+00, -2.36008701e+00,\n",
       "        -2.73535225e+00,  5.21946876e+00, -1.00000000e+00,\n",
       "        -1.51667641e+00, -1.52132675e+00, -1.31381224e+00,\n",
       "        -1.56675205e+00],\n",
       "       [-1.62386241e+00,  1.18562100e+01, -1.67183294e+00,\n",
       "        -7.17529986e-01, -1.16330306e+00, -7.31552633e-01,\n",
       "         2.22208895e-01, -1.96946450e+00,  7.37497132e+00,\n",
       "        -8.04398503e-01, -2.02846491e+00, -1.60250328e+00,\n",
       "        -1.60185289e+00, -8.09132794e-01, -8.08954469e-01,\n",
       "        -6.01306600e-01, -1.11760516e+00, -6.30265328e-02,\n",
       "         0.00000000e+00,  0.00000000e+00, -6.58815734e-01,\n",
       "        -1.01148930e+00, -1.00000000e+00,  0.00000000e+00,\n",
       "        -1.02466542e-01, -9.45638090e-01, -1.59359693e-01,\n",
       "        -1.25394820e+00, -6.95837072e-01, -1.61875196e+00,\n",
       "        -1.08067974e+00, -8.73761035e-01, -3.14794417e+00,\n",
       "        -9.56753250e-01, -8.28959344e-01, -1.11086991e+00,\n",
       "        -3.06461238e+00, -1.13591327e+00, -1.05413788e+00,\n",
       "        -7.95648971e-01, -9.43308955e-01, -1.52022839e+00,\n",
       "        -8.98502449e-01, -8.29748190e-01, -1.71603109e+00,\n",
       "        -9.77783477e-01, -9.01589857e-03, -2.20615008e+00,\n",
       "        -1.77340834e+00, -8.61930982e-01, -1.25116412e+00,\n",
       "        -9.69945256e-01, -7.73976724e-01, -1.40427782e+00,\n",
       "        -5.79113018e-01, -1.51181741e+00, -1.51952535e+00,\n",
       "        -1.50711211e+00, -1.63904911e+00, -1.36903094e+00,\n",
       "        -1.50022616e+00, -1.63291331e+00, -1.52067055e+00,\n",
       "        -1.96675742e+00,  0.00000000e+00,  0.00000000e+00,\n",
       "        -4.76573767e-01, -1.23053284e+00, -1.13945702e+01,\n",
       "        -9.35922402e-01,  7.37978020e+00,  0.00000000e+00,\n",
       "        -1.08533684e+00, -1.06929399e+00, -1.10864430e+00,\n",
       "        -1.09361678e+00, -1.10664080e+00,  8.46263528e-01,\n",
       "        -1.46511194e+00, -2.30303901e+00, -2.87789003e+00,\n",
       "         1.91143001e+00, -1.59128111e+00, -2.36008701e+00,\n",
       "         1.30114944e+00, -1.67576974e+00, -1.00000000e+00,\n",
       "        -1.51667641e+00, -1.52132675e+00, -1.31381224e+00,\n",
       "        -1.56675205e+00],\n",
       "       [-1.62358177e+00, -2.23618100e+01, -1.65974136e+00,\n",
       "        -7.17525843e-01, -1.17091624e+00, -7.31552633e-01,\n",
       "        -1.51860089e+00, -2.13524649e+00, -1.48978884e+00,\n",
       "        -8.04376930e-01, -2.03507691e+00, -1.60223446e+00,\n",
       "        -1.60158419e+00, -8.06875652e-01, -8.06697360e-01,\n",
       "        -5.99017166e-01, -1.11114677e+00, -6.30265328e-02,\n",
       "         0.00000000e+00,  0.00000000e+00, -6.57183372e-01,\n",
       "        -1.01148930e+00, -1.00000000e+00,  0.00000000e+00,\n",
       "        -1.02466542e-01, -9.45644449e-01, -8.82607483e-01,\n",
       "        -1.02695687e+00, -6.95837072e-01, -1.19472585e+00,\n",
       "        -1.03500579e+00, -8.73752127e-01, -3.10783327e+00,\n",
       "        -9.56753250e-01, -1.31454903e+00, -1.11072515e+00,\n",
       "        -3.00304071e+00, -1.13591241e+00, -1.05413788e+00,\n",
       "        -6.73445865e-01, -5.95769682e-01, -1.72483849e+00,\n",
       "        -8.98492983e-01, -8.29775230e-01, -1.66561458e+00,\n",
       "        -9.77783477e-01, -9.01589857e-03, -2.20521732e+00,\n",
       "        -1.77127710e+00, -8.65279208e-01, -1.27644259e+00,\n",
       "        -3.11886948e-01, -7.25060693e-01, -1.18532687e+00,\n",
       "        -5.79113018e-01, -1.84067318e+00, -1.77064654e+00,\n",
       "        -1.88956142e+00, -1.87755484e+00, -1.21166339e+00,\n",
       "        -1.85465067e+00, -1.82018630e+00, -1.77151978e+00,\n",
       "        -2.13258956e+00,  0.00000000e+00,  0.00000000e+00,\n",
       "        -4.76573767e-01, -1.23053284e+00, -1.13945702e+01,\n",
       "        -8.47715921e-01, -1.48954076e+00,  0.00000000e+00,\n",
       "        -1.08533906e+00, -1.06928421e+00, -1.10864929e+00,\n",
       "        -1.09360789e+00, -1.10664080e+00,  8.46263528e-01,\n",
       "        -1.46511194e+00, -2.30303901e+00, -2.87789003e+00,\n",
       "         1.91143001e+00, -1.59128111e+00, -2.36008701e+00,\n",
       "         1.30114944e+00, -1.67576974e+00, -1.00000000e+00,\n",
       "        -1.51667641e+00, -1.52132675e+00, -1.31381224e+00,\n",
       "        -1.56675205e+00],\n",
       "       [-1.62387445e+00,  7.51494051e-01, -1.67117161e+00,\n",
       "        -7.17530578e-01, -1.16296719e+00, -7.31552633e-01,\n",
       "         2.22208895e-01, -2.19050715e+00, -1.48978884e+00,\n",
       "        -8.04407413e-01, -2.02846491e+00, -1.60251782e+00,\n",
       "        -1.60186742e+00, -8.09053002e-01, -8.08874677e-01,\n",
       "        -6.01153285e-01, -1.11848491e+00, -6.30265328e-02,\n",
       "         0.00000000e+00,  0.00000000e+00, -6.58726454e-01,\n",
       "        -1.01148930e+00, -1.00000000e+00,  0.00000000e+00,\n",
       "        -1.02351010e-01, -9.45645923e-01, -8.82607483e-01,\n",
       "        -1.25394820e+00,  3.75217637e-01, -1.19472585e+00,\n",
       "        -1.04515556e+00, -8.73749645e-01, -3.07173346e+00,\n",
       "        -4.91709736e-01, -9.90822574e-01, -1.11081020e+00,\n",
       "        -3.00304071e+00, -1.13593075e+00,  2.13855414e-01,\n",
       "        -7.95648971e-01,  9.93088645e-02, -1.41792334e+00,\n",
       "        -8.98478328e-01, -8.29754261e-01, -1.71590505e+00,\n",
       "        -9.77783477e-01, -9.01589857e-03, -2.17599089e+00,\n",
       "        -1.76671018e+00, -8.51886304e-01, -1.17532874e+00,\n",
       "        -3.11886948e-01, -7.81649827e-01, -1.32217121e+00,\n",
       "        -6.91007457e-02, -1.67624529e+00, -1.77064654e+00,\n",
       "        -1.60272444e+00, -1.63904911e+00, -1.24663396e+00,\n",
       "        -1.81527017e+00, -1.77336805e+00, -1.77151978e+00,\n",
       "        -2.18786694e+00,  0.00000000e+00,  0.00000000e+00,\n",
       "        -4.76573767e-01, -3.93099854e-01, -1.16710886e+01,\n",
       "        -9.18281106e-01, -1.48954076e+00,  0.00000000e+00,\n",
       "        -1.08534179e+00, -1.06928683e+00, -1.10865109e+00,\n",
       "        -1.09361239e+00, -1.10664080e+00,  8.46263528e-01,\n",
       "        -1.46511194e+00, -2.30303901e+00, -2.87789003e+00,\n",
       "         1.91143001e+00, -1.59128111e+00, -2.36008701e+00,\n",
       "         1.30114944e+00, -1.67576974e+00, -1.00000000e+00,\n",
       "        -1.51667641e+00, -1.52132675e+00, -1.31381224e+00,\n",
       "        -1.56675205e+00],\n",
       "       [-1.62387351e+00,  1.29752899e+01, -1.67097876e+00,\n",
       "        -7.17531104e-01, -1.15247108e+00, -7.31552633e-01,\n",
       "         2.22208895e-01, -1.83131284e+00, -1.48978884e+00,\n",
       "        -8.04406443e-01, -1.94912088e+00, -1.60251470e+00,\n",
       "        -1.60186431e+00, -8.09256145e-01, -8.09077818e-01,\n",
       "        -6.01330806e-01, -1.11950291e+00, -6.30265328e-02,\n",
       "         0.00000000e+00,  0.00000000e+00, -6.58700420e-01,\n",
       "        -1.01148930e+00, -1.00000000e+00,  0.00000000e+00,\n",
       "        -1.02466542e-01, -9.45653929e-01, -1.60585527e+00,\n",
       "         1.07999817e-01, -1.76689178e+00, -1.19472585e+00,\n",
       "        -1.00455649e+00, -8.73745169e-01, -3.07373900e+00,\n",
       "        -1.42179676e+00, -1.31454903e+00, -1.11096650e+00,\n",
       "        -2.95026500e+00, -1.13593418e+00, -1.05413788e+00,\n",
       "        -7.95648971e-01, -1.11707859e+00, -1.62253344e+00,\n",
       "        -8.98622693e-01, -8.29778665e-01, -1.66359792e+00,\n",
       "        -9.77783477e-01, -9.01589857e-03, -2.21236847e+00,\n",
       "        -1.75991053e+00, -8.11707595e-01, -8.71987202e-01,\n",
       "        -9.69945256e-01, -7.73017586e-01, -1.48638442e+00,\n",
       "        -5.79113018e-01, -1.51181741e+00, -1.60323241e+00,\n",
       "        -1.69833676e+00, -1.59134797e+00, -1.14172226e+00,\n",
       "        -1.77588967e+00, -1.64851939e+00, -1.60428696e+00,\n",
       "        -1.82856396e+00,  0.00000000e+00,  0.00000000e+00,\n",
       "        -4.76573767e-01, -1.78882150e+00, -1.14382310e+01,\n",
       "        -8.47715921e-01, -1.48954076e+00,  0.00000000e+00,\n",
       "        -1.08534794e+00, -1.06928336e+00, -1.10866370e+00,\n",
       "        -1.09360456e+00, -1.10664080e+00,  8.46263528e-01,\n",
       "        -1.46511194e+00, -2.30303901e+00,  1.12921963e+00,\n",
       "        -2.36535699e+00, -1.59128111e+00, -2.36008701e+00,\n",
       "        -2.73535225e+00,  5.21946876e+00, -1.00000000e+00,\n",
       "        -1.51667641e+00, -1.52132675e+00, -1.31381224e+00,\n",
       "        -1.56675205e+00]])"
      ]
     },
     "execution_count": 21,
     "metadata": {},
     "output_type": "execute_result"
    }
   ],
   "source": [
    "# Scale the training and testing data\n",
    "X_train = data_scaler.transform(X_train)\n",
    "X_train[:5] # Check the first 5 rows of the scaled training data\n",
    "\n",
    "X_test = data_scaler.transform(X_test)\n",
    "X_test[:5] # Check the first 5 rows of the scaled testing data\n"
   ]
  },
  {
   "cell_type": "markdown",
   "metadata": {},
   "source": [
    "## Ensemble Learners\n",
    "\n",
    "In this section, you will compare two ensemble algorithms to determine which algorithm results in the best performance. You will train a Balanced Random Forest Classifier and an Easy Ensemble classifier . For each algorithm, be sure to complete the folliowing steps:\n",
    "\n",
    "1. Train the model using the training data. \n",
    "2. Calculate the balanced accuracy score from sklearn.metrics.\n",
    "3. Display the confusion matrix from sklearn.metrics.\n",
    "4. Generate a classication report using the `imbalanced_classification_report` from imbalanced-learn.\n",
    "5. For the Balanced Random Forest Classifier only, print the feature importance sorted in descending order (most important feature to least important) along with the feature score\n",
    "\n",
    "Note: Use a random state of 1 for each algorithm to ensure consistency between tests"
   ]
  },
  {
   "cell_type": "markdown",
   "metadata": {},
   "source": [
    "### Balanced Random Forest Classifier"
   ]
  },
  {
   "cell_type": "code",
   "execution_count": 12,
   "metadata": {},
   "outputs": [],
   "source": [
    "# Resample the training data with the BalancedRandomForestClassifier\n",
    "from imblearn.ensemble import BalancedRandomForestClassifier\n",
    "\n",
    "# Initiate the model\n",
    "rf_model = BalancedRandomForestClassifier(n_estimators=100, random_state=1)\n",
    "\n",
    "# Fit the model\n",
    "rf_model.fit(X_train, y_train)\n",
    "\n",
    "# Predict with the model\n",
    "y_pred = rf_model.predict(X_test)"
   ]
  },
  {
   "cell_type": "code",
   "execution_count": 13,
   "metadata": {},
   "outputs": [
    {
     "data": {
      "text/plain": [
       "0.7515253220831906"
      ]
     },
     "execution_count": 13,
     "metadata": {},
     "output_type": "execute_result"
    }
   ],
   "source": [
    "# Calculated the balanced accuracy score\n",
    "balanced_accuracy_score(y_test, y_pred)"
   ]
  },
  {
   "cell_type": "code",
   "execution_count": 22,
   "metadata": {},
   "outputs": [
    {
     "data": {
      "text/plain": [
       "<AxesSubplot:>"
      ]
     },
     "execution_count": 22,
     "metadata": {},
     "output_type": "execute_result"
    },
    {
     "data": {
      "image/png": "[encoded data removed]",
      "text/plain": [
       "<Figure size 432x288 with 2 Axes>"
      ]
     },
     "metadata": {
      "needs_background": "light"
     },
     "output_type": "display_data"
    }
   ],
   "source": [
    "# Display the confusion matrix\n",
    "cf_matrix = confusion_matrix(y_test, y_pred)\n",
    "\n",
    "# Boilerplate code for plotting a confusion matrix heatmap\n",
    "import seaborn as sns\n",
    "group_names = ['True Negative','False Positive','False Negative','True Positive']\n",
    "\n",
    "group_counts = [\"{0:0.0f}\".format(value) for value in cf_matrix.flatten()]\n",
    "group_percentages = [\"{0:.2%}\".format(value) for value in cf_matrix.flatten()/np.sum(cf_matrix)]\n",
    "\n",
    "labels = [f\"{v1}\\n{v2}\\n{v3}\" for v1, v2, v3 in zip(group_names,group_counts,group_percentages)]\n",
    "labels = np.asarray(labels).reshape(2,2)\n",
    "sns.heatmap(cf_matrix, annot=labels, fmt='', cmap='Blues')"
   ]
  },
  {
   "cell_type": "code",
   "execution_count": 15,
   "metadata": {},
   "outputs": [
    {
     "name": "stdout",
     "output_type": "stream",
     "text": [
      "                   pre       rec       spe        f1       geo       iba       sup\n",
      "\n",
      "  high_risk       0.03      0.63      0.87      0.05      0.74      0.54       101\n",
      "   low_risk       1.00      0.87      0.63      0.93      0.74      0.56     17104\n",
      "\n",
      "avg / total       0.99      0.87      0.64      0.92      0.74      0.56     17205\n",
      "\n"
     ]
    }
   ],
   "source": [
    "# Print the imbalanced classification report\n",
    "print(classification_report_imbalanced(y_test, y_pred))"
   ]
  },
  {
   "cell_type": "code",
   "execution_count": 16,
   "metadata": {},
   "outputs": [
    {
     "data": {
      "text/plain": [
       "<AxesSubplot:title={'center':'Features Importances'}, ylabel='1'>"
      ]
     },
     "execution_count": 16,
     "metadata": {},
     "output_type": "execute_result"
    },
    {
     "data": {
      "image/png": "[encoded data removed]",
      "text/plain": [
       "<Figure size 1440x1080 with 1 Axes>"
      ]
     },
     "metadata": {
      "needs_background": "light"
     },
     "output_type": "display_data"
    }
   ],
   "source": [
    "# List the features sorted in descending order by feature importance\n",
    "\n",
    "# Set the features using feature_importances\n",
    "importances = rf_model.feature_importances_\n",
    "\n",
    "# Sort the features\n",
    "sorted(zip(rf_model.feature_importances_, X.columns), reverse=True) # zip() creates a list of tuples from two lists\n",
    "\n",
    "# Plot the features\n",
    "importances_df = pd.DataFrame(sorted(zip(rf_model.feature_importances_, X.columns), reverse=True)) # Create the initial datafraem. This will follow by several steps to manipulate the dataframe\n",
    "importances_df.set_index(importances_df[1], inplace=True) # Set the index to the second column and inplace=True will overwrite the original dataframe\n",
    "importances_df.drop(columns=1, inplace=True) # Drop the second column\n",
    "importances_df.rename(columns={0: 'Feature Importances'}, inplace=True) # Rename the first column to 'Feature Importances' using the .rename() method and a dictionary as the argument\n",
    "importances_sorted = importances_df.sort_values(by='Feature Importances') # Replace the dataframe with a new sorted dataframe. Sort the dataframe by the 'Feature Importances' column\n",
    "importances_sorted[25:].plot(kind='barh', color='lightgreen', title= 'Features Importances', legend=False, figsize=(20,15)) # Plot the dataframe with 25 rows and all columns"
   ]
  },
  {
   "cell_type": "markdown",
   "metadata": {},
   "source": [
    "### Easy Ensemble Classifier"
   ]
  },
  {
   "cell_type": "code",
   "execution_count": 17,
   "metadata": {},
   "outputs": [],
   "source": [
    "# Train the Classifier\n",
    "from imblearn.ensemble import EasyEnsembleClassifier\n",
    "eec_model = EasyEnsembleClassifier(n_estimators=100, random_state=1) \n",
    "\n",
    "# Fit the model\n",
    "eec_model.fit(X_train, y_train)\n",
    "\n",
    "# Predict with the model\n",
    "y_pred = eec_model.predict(X_test)"
   ]
  },
  {
   "cell_type": "code",
   "execution_count": 18,
   "metadata": {},
   "outputs": [
    {
     "data": {
      "text/plain": [
       "0.8168082389389547"
      ]
     },
     "execution_count": 18,
     "metadata": {},
     "output_type": "execute_result"
    }
   ],
   "source": [
    "# Calculated the balanced accuracy score\n",
    "balanced_accuracy_score(y_test, y_pred)"
   ]
  },
  {
   "cell_type": "code",
   "execution_count": 19,
   "metadata": {},
   "outputs": [
    {
     "data": {
      "text/plain": [
       "<AxesSubplot:>"
      ]
     },
     "execution_count": 19,
     "metadata": {},
     "output_type": "execute_result"
    },
    {
     "data": {
      "image/png": "[encoded data removed]",
      "text/plain": [
       "<Figure size 432x288 with 2 Axes>"
      ]
     },
     "metadata": {
      "needs_background": "light"
     },
     "output_type": "display_data"
    }
   ],
   "source": [
    "# Display the confusion matrix\n",
    "cf_matrix = confusion_matrix(y_test, y_pred)\n",
    "\n",
    "# Boilerplate code for plotting a confusion matrix heatmap\n",
    "import seaborn as sns\n",
    "group_names = ['True Negative','False Positive','False Negative','True Positive']\n",
    "\n",
    "group_counts = [\"{0:0.0f}\".format(value) for value in cf_matrix.flatten()]\n",
    "group_percentages = [\"{0:.2%}\".format(value) for value in cf_matrix.flatten()/np.sum(cf_matrix)]\n",
    "\n",
    "labels = [f\"{v1}\\n{v2}\\n{v3}\" for v1, v2, v3 in zip(group_names,group_counts,group_percentages)]\n",
    "labels = np.asarray(labels).reshape(2,2)\n",
    "sns.heatmap(cf_matrix, annot=labels, fmt='', cmap='Blues')"
   ]
  },
  {
   "cell_type": "code",
   "execution_count": 20,
   "metadata": {},
   "outputs": [
    {
     "name": "stdout",
     "output_type": "stream",
     "text": [
      "                   pre       rec       spe        f1       geo       iba       sup\n",
      "\n",
      "  high_risk       0.03      0.78      0.85      0.06      0.82      0.66       101\n",
      "   low_risk       1.00      0.85      0.78      0.92      0.82      0.67     17104\n",
      "\n",
      "avg / total       0.99      0.85      0.78      0.91      0.82      0.67     17205\n",
      "\n"
     ]
    }
   ],
   "source": [
    "# Print the imbalanced classification report\n",
    "print(classification_report_imbalanced(y_test, y_pred))"
   ]
  },
  {
   "cell_type": "markdown",
   "metadata": {},
   "source": [
    "### Final Questions\n",
    "\n",
    "1. Which model had the best balanced accuracy score?\n",
    "\n",
    "    The best balanced accuracy score was produced by the EasyEnsembleClassifier\n",
    "\n",
    "2. Which model had the best recall score?\n",
    "\n",
    "    The best recall score was produced by BalancedRandomForestClassifier even though this model had a large amount of false negatives or high recall. \n",
    "\n",
    "3. Which model had the best geometric mean score?\n",
    "\n",
    "    The best geometric mean score was produced by EasyEnsembleClassifier\n",
    "\n",
    "4. What are the top three features?\n",
    "\n",
    "    total_rec_prncp, total_pymnt_inv, total_pymnt\n",
    "    \n"
   ]
  },
  {
   "cell_type": "code",
   "execution_count": null,
   "metadata": {},
   "outputs": [],
   "source": []
  }
 ],
 "metadata": {
  "interpreter": {
   "hash": "c852d957148553e80ec9f63709449e8cf80c38c98d8b1ccb8da4579f62c90161"
  },
  "kernelspec": {
   "display_name": "Python 3.7.11 ('pyviz_prophet')",
   "language": "python",
   "name": "python3"
  },
  "language_info": {
   "codemirror_mode": {
    "name": "ipython",
    "version": 3
   },
   "file_extension": ".py",
   "mimetype": "text/x-python",
   "name": "python",
   "nbconvert_exporter": "python",
   "pygments_lexer": "ipython3",
   "version": "3.7.11"
  }
 },
 "nbformat": 4,
 "nbformat_minor": 4
}
